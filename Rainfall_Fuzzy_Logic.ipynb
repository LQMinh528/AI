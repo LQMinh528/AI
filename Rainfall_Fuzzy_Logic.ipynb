{
  "nbformat": 4,
  "nbformat_minor": 0,
  "metadata": {
    "colab": {
      "provenance": [],
      "authorship_tag": "ABX9TyMsHIVHhVYLt95N+GP/bQi7",
      "include_colab_link": true
    },
    "kernelspec": {
      "name": "python3",
      "display_name": "Python 3"
    },
    "language_info": {
      "name": "python"
    }
  },
  "cells": [
    {
      "cell_type": "markdown",
      "metadata": {
        "id": "view-in-github",
        "colab_type": "text"
      },
      "source": [
        "<a href=\"https://colab.research.google.com/github/LQMinh528/AI/blob/main/Rainfall_Fuzzy_Logic.ipynb\" target=\"_parent\"><img src=\"https://colab.research.google.com/assets/colab-badge.svg\" alt=\"Open In Colab\"/></a>"
      ]
    },
    {
      "cell_type": "code",
      "execution_count": 1,
      "metadata": {
        "colab": {
          "base_uri": "https://localhost:8080/"
        },
        "id": "qTyFmBynlQ72",
        "outputId": "1cc0f995-7cc6-494f-b7be-ab8e3f201163"
      },
      "outputs": [
        {
          "output_type": "stream",
          "name": "stdout",
          "text": [
            "Looking in indexes: https://pypi.org/simple, https://us-python.pkg.dev/colab-wheels/public/simple/\n",
            "Collecting scikit-fuzzy\n",
            "  Downloading scikit-fuzzy-0.4.2.tar.gz (993 kB)\n",
            "\u001b[2K     \u001b[90m━━━━━━━━━━━━━━━━━━━━━━━━━━━━━━━━━━━━━━\u001b[0m \u001b[32m994.0/994.0 KB\u001b[0m \u001b[31m17.1 MB/s\u001b[0m eta \u001b[36m0:00:00\u001b[0m\n",
            "\u001b[?25h  Preparing metadata (setup.py) ... \u001b[?25l\u001b[?25hdone\n",
            "Requirement already satisfied: numpy>=1.6.0 in /usr/local/lib/python3.8/dist-packages (from scikit-fuzzy) (1.22.4)\n",
            "Requirement already satisfied: scipy>=0.9.0 in /usr/local/lib/python3.8/dist-packages (from scikit-fuzzy) (1.10.1)\n",
            "Requirement already satisfied: networkx>=1.9.0 in /usr/local/lib/python3.8/dist-packages (from scikit-fuzzy) (3.0)\n",
            "Building wheels for collected packages: scikit-fuzzy\n",
            "  Building wheel for scikit-fuzzy (setup.py) ... \u001b[?25l\u001b[?25hdone\n",
            "  Created wheel for scikit-fuzzy: filename=scikit_fuzzy-0.4.2-py3-none-any.whl size=894088 sha256=1bfbc9f2468c08622f80d9b2e9173244ec733aa730fc5db74bd8d6860c2fd399\n",
            "  Stored in directory: /root/.cache/pip/wheels/2c/04/80/7eefb1a2de7d36aefd06432fab2a1486caf0a0596a7067391a\n",
            "Successfully built scikit-fuzzy\n",
            "Installing collected packages: scikit-fuzzy\n",
            "Successfully installed scikit-fuzzy-0.4.2\n"
          ]
        }
      ],
      "source": [
        "pip install scikit-fuzzy"
      ]
    },
    {
      "cell_type": "code",
      "source": [
        "import numpy as np\n",
        "import skfuzzy as fuzz\n",
        "from skfuzzy import control as ctrl\n",
        "\n",
        "Windspeed = ctrl.Antecedent(np.arange(0,1.1,0.01),'Windspeed')\n",
        "Temperature = ctrl.Antecedent(np.arange(0,1.1,0.01),'Temperature')\n",
        "Rainfall = ctrl.Consequent(np.arange(0,1.1,0.01),'Rainfall')\n",
        "\n",
        "Windspeed['VL'] = fuzz.trimf(Windspeed.universe,[0.00,0.125,0.25])\n",
        "Windspeed['L'] = fuzz.trimf(Windspeed.universe,[0.00,0.25,0.50])\n",
        "Windspeed['N'] = fuzz.trimf(Windspeed.universe,[0.25,0.50,0.75])\n",
        "Windspeed['H'] = fuzz.trimf(Windspeed.universe,[0.50,0.75,1.00])\n",
        "Windspeed['VH'] = fuzz.trimf(Windspeed.universe,[0.75,0.875,1.00])\n",
        "\n",
        "Temperature['VL'] = fuzz.trimf(Temperature.universe,[0.00,0.125,0.25])\n",
        "Temperature['L'] = fuzz.trimf(Temperature.universe,[0.00,0.25,0.50])\n",
        "Temperature['N'] = fuzz.trimf(Temperature.universe,[0.25,0.50,0.75])\n",
        "Temperature['H'] = fuzz.trimf(Temperature.universe,[0.50,0.75,1.00])\n",
        "Temperature['VH'] = fuzz.trimf(Temperature.universe,[0.75,0.875,1.00])\n",
        "\n",
        "Rainfall['VL'] = fuzz.trimf(Rainfall.universe,[0.00,0.125,0.25])\n",
        "Rainfall['L'] = fuzz.trimf(Rainfall.universe,[0.00,0.25,0.50])\n",
        "Rainfall['N'] = fuzz.trimf(Rainfall.universe,[0.25,0.50,0.75])\n",
        "Rainfall['H'] = fuzz.trimf(Rainfall.universe,[0.50,0.75,1.00])\n",
        "Rainfall['VH'] = fuzz.trimf(Rainfall.universe,[0.75,0.875,1.00])\n",
        "\n",
        "rule1 = ctrl.Rule(Windspeed['VL'] & Temperature['VL'], Rainfall['VL'])\n",
        "rule2 = ctrl.Rule(Windspeed['L'] & Temperature['L'], Rainfall['VL'])\n",
        "rule3 = ctrl.Rule(Windspeed['VH'] & Temperature['VH'], Rainfall['VH'])\n",
        "rule4 = ctrl.Rule(Windspeed['L'] & Temperature['VL'], Rainfall['VL'])\n",
        "\n",
        "Rainfalling_ctrl = ctrl.ControlSystem([rule1,rule2,rule3,rule4])\n",
        "Rainfalling = ctrl.ControlSystemSimulation(Rainfalling_ctrl)\n",
        "Rainfalling.input['Windspeed'] = 0.2\n",
        "Rainfalling.input['Temperature'] = 0.5\n",
        "Rainfalling.compute()\n",
        "Rainfall.view(sim = Rainfalling)"
      ],
      "metadata": {
        "colab": {
          "base_uri": "https://localhost:8080/",
          "height": 459
        },
        "id": "HvXD5u1_nSwc",
        "outputId": "bb71614c-bea6-466a-f110-9dab4d405b2b"
      },
      "execution_count": 31,
      "outputs": [
        {
          "output_type": "error",
          "ename": "ValueError",
          "evalue": "ignored",
          "traceback": [
            "\u001b[0;31m---------------------------------------------------------------------------\u001b[0m",
            "\u001b[0;31mAssertionError\u001b[0m                            Traceback (most recent call last)",
            "\u001b[0;32m/usr/local/lib/python3.8/dist-packages/skfuzzy/control/controlsystem.py\u001b[0m in \u001b[0;36mdefuzz\u001b[0;34m(self)\u001b[0m\n\u001b[1;32m    585\u001b[0m             \u001b[0;32mtry\u001b[0m\u001b[0;34m:\u001b[0m\u001b[0;34m\u001b[0m\u001b[0;34m\u001b[0m\u001b[0m\n\u001b[0;32m--> 586\u001b[0;31m                 return defuzz(ups_universe, output_mf,\n\u001b[0m\u001b[1;32m    587\u001b[0m                               self.var.defuzzify_method)\n",
            "\u001b[0;32m/usr/local/lib/python3.8/dist-packages/skfuzzy/defuzzify/defuzz.py\u001b[0m in \u001b[0;36mdefuzz\u001b[0;34m(x, mfx, mode)\u001b[0m\n\u001b[1;32m    247\u001b[0m         \u001b[0mzero_truth_degree\u001b[0m \u001b[0;34m=\u001b[0m \u001b[0mmfx\u001b[0m\u001b[0;34m.\u001b[0m\u001b[0msum\u001b[0m\u001b[0;34m(\u001b[0m\u001b[0;34m)\u001b[0m \u001b[0;34m==\u001b[0m \u001b[0;36m0\u001b[0m  \u001b[0;31m# Approximation of total area\u001b[0m\u001b[0;34m\u001b[0m\u001b[0;34m\u001b[0m\u001b[0m\n\u001b[0;32m--> 248\u001b[0;31m         \u001b[0;32massert\u001b[0m \u001b[0;32mnot\u001b[0m \u001b[0mzero_truth_degree\u001b[0m\u001b[0;34m,\u001b[0m \u001b[0;34m'Total area is zero in defuzzification!'\u001b[0m\u001b[0;34m\u001b[0m\u001b[0;34m\u001b[0m\u001b[0m\n\u001b[0m\u001b[1;32m    249\u001b[0m \u001b[0;34m\u001b[0m\u001b[0m\n",
            "\u001b[0;31mAssertionError\u001b[0m: Total area is zero in defuzzification!",
            "\nDuring handling of the above exception, another exception occurred:\n",
            "\u001b[0;31mValueError\u001b[0m                                Traceback (most recent call last)",
            "\u001b[0;32m<ipython-input-31-5689d0a1af6a>\u001b[0m in \u001b[0;36m<module>\u001b[0;34m\u001b[0m\n\u001b[1;32m     34\u001b[0m \u001b[0mRainfalling\u001b[0m\u001b[0;34m.\u001b[0m\u001b[0minput\u001b[0m\u001b[0;34m[\u001b[0m\u001b[0;34m'Windspeed'\u001b[0m\u001b[0;34m]\u001b[0m \u001b[0;34m=\u001b[0m \u001b[0;36m0.2\u001b[0m\u001b[0;34m\u001b[0m\u001b[0;34m\u001b[0m\u001b[0m\n\u001b[1;32m     35\u001b[0m \u001b[0mRainfalling\u001b[0m\u001b[0;34m.\u001b[0m\u001b[0minput\u001b[0m\u001b[0;34m[\u001b[0m\u001b[0;34m'Temperature'\u001b[0m\u001b[0;34m]\u001b[0m \u001b[0;34m=\u001b[0m \u001b[0;36m0.5\u001b[0m\u001b[0;34m\u001b[0m\u001b[0;34m\u001b[0m\u001b[0m\n\u001b[0;32m---> 36\u001b[0;31m \u001b[0mRainfalling\u001b[0m\u001b[0;34m.\u001b[0m\u001b[0mcompute\u001b[0m\u001b[0;34m(\u001b[0m\u001b[0;34m)\u001b[0m\u001b[0;34m\u001b[0m\u001b[0;34m\u001b[0m\u001b[0m\n\u001b[0m\u001b[1;32m     37\u001b[0m \u001b[0mRainfall\u001b[0m\u001b[0;34m.\u001b[0m\u001b[0mview\u001b[0m\u001b[0;34m(\u001b[0m\u001b[0msim\u001b[0m \u001b[0;34m=\u001b[0m \u001b[0mRainfalling\u001b[0m\u001b[0;34m)\u001b[0m\u001b[0;34m\u001b[0m\u001b[0;34m\u001b[0m\u001b[0m\n",
            "\u001b[0;32m/usr/local/lib/python3.8/dist-packages/skfuzzy/control/controlsystem.py\u001b[0m in \u001b[0;36mcompute\u001b[0;34m(self)\u001b[0m\n\u001b[1;32m    371\u001b[0m         \u001b[0;32mfor\u001b[0m \u001b[0mconsequent\u001b[0m \u001b[0;32min\u001b[0m \u001b[0mself\u001b[0m\u001b[0;34m.\u001b[0m\u001b[0mctrl\u001b[0m\u001b[0;34m.\u001b[0m\u001b[0mconsequents\u001b[0m\u001b[0;34m:\u001b[0m\u001b[0;34m\u001b[0m\u001b[0;34m\u001b[0m\u001b[0m\n\u001b[1;32m    372\u001b[0m             \u001b[0mconsequent\u001b[0m\u001b[0;34m.\u001b[0m\u001b[0moutput\u001b[0m\u001b[0;34m[\u001b[0m\u001b[0mself\u001b[0m\u001b[0;34m]\u001b[0m \u001b[0;34m=\u001b[0m\u001b[0;31m \u001b[0m\u001b[0;31m\\\u001b[0m\u001b[0;34m\u001b[0m\u001b[0;34m\u001b[0m\u001b[0m\n\u001b[0;32m--> 373\u001b[0;31m                 \u001b[0mCrispValueCalculator\u001b[0m\u001b[0;34m(\u001b[0m\u001b[0mconsequent\u001b[0m\u001b[0;34m,\u001b[0m \u001b[0mself\u001b[0m\u001b[0;34m)\u001b[0m\u001b[0;34m.\u001b[0m\u001b[0mdefuzz\u001b[0m\u001b[0;34m(\u001b[0m\u001b[0;34m)\u001b[0m\u001b[0;34m\u001b[0m\u001b[0;34m\u001b[0m\u001b[0m\n\u001b[0m\u001b[1;32m    374\u001b[0m             \u001b[0mself\u001b[0m\u001b[0;34m.\u001b[0m\u001b[0moutput\u001b[0m\u001b[0;34m[\u001b[0m\u001b[0mconsequent\u001b[0m\u001b[0;34m.\u001b[0m\u001b[0mlabel\u001b[0m\u001b[0;34m]\u001b[0m \u001b[0;34m=\u001b[0m \u001b[0mconsequent\u001b[0m\u001b[0;34m.\u001b[0m\u001b[0moutput\u001b[0m\u001b[0;34m[\u001b[0m\u001b[0mself\u001b[0m\u001b[0;34m]\u001b[0m\u001b[0;34m\u001b[0m\u001b[0;34m\u001b[0m\u001b[0m\n\u001b[1;32m    375\u001b[0m \u001b[0;34m\u001b[0m\u001b[0m\n",
            "\u001b[0;32m/usr/local/lib/python3.8/dist-packages/skfuzzy/control/controlsystem.py\u001b[0m in \u001b[0;36mdefuzz\u001b[0;34m(self)\u001b[0m\n\u001b[1;32m    587\u001b[0m                               self.var.defuzzify_method)\n\u001b[1;32m    588\u001b[0m             \u001b[0;32mexcept\u001b[0m \u001b[0mAssertionError\u001b[0m\u001b[0;34m:\u001b[0m\u001b[0;34m\u001b[0m\u001b[0;34m\u001b[0m\u001b[0m\n\u001b[0;32m--> 589\u001b[0;31m                 raise ValueError(\"Crisp output cannot be calculated, likely \"\n\u001b[0m\u001b[1;32m    590\u001b[0m                                  \u001b[0;34m\"because the system is too sparse. Check to \"\u001b[0m\u001b[0;34m\u001b[0m\u001b[0;34m\u001b[0m\u001b[0m\n\u001b[1;32m    591\u001b[0m                                  \u001b[0;34m\"make sure this set of input values will \"\u001b[0m\u001b[0;34m\u001b[0m\u001b[0;34m\u001b[0m\u001b[0m\n",
            "\u001b[0;31mValueError\u001b[0m: Crisp output cannot be calculated, likely because the system is too sparse. Check to make sure this set of input values will activate at least one connected Term in each Antecedent via the current set of Rules."
          ]
        }
      ]
    },
    {
      "cell_type": "code",
      "source": [],
      "metadata": {
        "id": "I_umoO6MoTEi"
      },
      "execution_count": null,
      "outputs": []
    }
  ]
}