{
  "nbformat": 4,
  "nbformat_minor": 0,
  "metadata": {
    "colab": {
      "provenance": [],
      "authorship_tag": "ABX9TyNFeeBS2BUx3dnIE0AhWTdI",
      "include_colab_link": true
    },
    "kernelspec": {
      "name": "python3",
      "display_name": "Python 3"
    },
    "language_info": {
      "name": "python"
    }
  },
  "cells": [
    {
      "cell_type": "markdown",
      "metadata": {
        "id": "view-in-github",
        "colab_type": "text"
      },
      "source": [
        "<a href=\"https://colab.research.google.com/github/LQMinh528/AI/blob/main/Malaria_Fuzzy_Logic.ipynb\" target=\"_parent\"><img src=\"https://colab.research.google.com/assets/colab-badge.svg\" alt=\"Open In Colab\"/></a>"
      ]
    },
    {
      "cell_type": "code",
      "execution_count": 1,
      "metadata": {
        "colab": {
          "base_uri": "https://localhost:8080/"
        },
        "id": "rHArxPJQ4ihp",
        "outputId": "811d8cda-4d8f-4454-8f8a-303dd16b5076"
      },
      "outputs": [
        {
          "output_type": "stream",
          "name": "stdout",
          "text": [
            "Looking in indexes: https://pypi.org/simple, https://us-python.pkg.dev/colab-wheels/public/simple/\n",
            "Collecting scikit-fuzzy\n",
            "  Downloading scikit-fuzzy-0.4.2.tar.gz (993 kB)\n",
            "\u001b[2K     \u001b[90m━━━━━━━━━━━━━━━━━━━━━━━━━━━━━━━━━━━━━━\u001b[0m \u001b[32m994.0/994.0 KB\u001b[0m \u001b[31m15.0 MB/s\u001b[0m eta \u001b[36m0:00:00\u001b[0m\n",
            "\u001b[?25h  Preparing metadata (setup.py) ... \u001b[?25l\u001b[?25hdone\n",
            "Requirement already satisfied: numpy>=1.6.0 in /usr/local/lib/python3.8/dist-packages (from scikit-fuzzy) (1.22.4)\n",
            "Requirement already satisfied: scipy>=0.9.0 in /usr/local/lib/python3.8/dist-packages (from scikit-fuzzy) (1.10.1)\n",
            "Requirement already satisfied: networkx>=1.9.0 in /usr/local/lib/python3.8/dist-packages (from scikit-fuzzy) (3.0)\n",
            "Building wheels for collected packages: scikit-fuzzy\n",
            "  Building wheel for scikit-fuzzy (setup.py) ... \u001b[?25l\u001b[?25hdone\n",
            "  Created wheel for scikit-fuzzy: filename=scikit_fuzzy-0.4.2-py3-none-any.whl size=894088 sha256=1d3801af136f8bc852a5fabe6be551db6827fe1b74867cee9902bf8fd8eb0d8c\n",
            "  Stored in directory: /root/.cache/pip/wheels/2c/04/80/7eefb1a2de7d36aefd06432fab2a1486caf0a0596a7067391a\n",
            "Successfully built scikit-fuzzy\n",
            "Installing collected packages: scikit-fuzzy\n",
            "Successfully installed scikit-fuzzy-0.4.2\n"
          ]
        }
      ],
      "source": [
        "pip install scikit-fuzzy"
      ]
    },
    {
      "cell_type": "markdown",
      "source": [],
      "metadata": {
        "id": "rHC-RTD_CSzd"
      }
    },
    {
      "cell_type": "code",
      "source": [
        "import numpy as np\n",
        "import skfuzzy as fuzz\n",
        "from skfuzzy import control as ctrl\n",
        "\n",
        "Fever = ctrl.Antecedent(np.arange(10,101,1),'Fever')\n",
        "Headache = ctrl.Antecedent(np.arange(10,101,1),'Headache')\n",
        "Nausea = ctrl.Antecedent(np.arange(10,101,1),'Nausea')\n",
        "Vomiting = ctrl.Antecedent(np.arange(10,101,1),'Vomiting')\n",
        "Jaundice = ctrl.Antecedent(np.arange(10,101,1),'Jaundice')\n",
        "Enlarge_Liver = ctrl.Antecedent(np.arange(10,101,1),'Enlarge_Liver')\n",
        "Joint_Pain = ctrl.Antecedent(np.arange(10,101,1),'Joint_Pain')\n",
        "Body_Weakness = ctrl.Antecedent(np.arange(10,101,1),'Body_Weakness')\n",
        "Dizziness = ctrl.Antecedent(np.arange(10,101,1),'Dizziness')\n",
        "Loss_of_Appetite = ctrl.Antecedent(np.arange(10,101,1),'Loss_of_Appetite')\n",
        "MP = ctrl.Antecedent(np.arange(10,101,1),'MP')\n",
        "Conclusion = ctrl.Consequent(np.arange(10,101,1),'Conclusion')\n"
      ],
      "metadata": {
        "id": "3DePsUPr4yv4"
      },
      "execution_count": 2,
      "outputs": []
    },
    {
      "cell_type": "code",
      "source": [
        "Fever['Mild'] = fuzz.trimf(Fever.universe,[10,20,30])\n",
        "Fever['Moderate'] = fuzz.trimf(Fever.universe,[30,50,60])\n",
        "Fever['Severe'] = fuzz.trimf(Fever.universe,[60,70,80])\n",
        "Fever['Very_Severe'] = fuzz.trimf(Fever.universe,[80,90,100])\n",
        "\n",
        "Headache['Mild'] = fuzz.trimf(Headache.universe,[10,20,30])\n",
        "Headache['Moderate'] = fuzz.trimf(Headache.universe,[30,50,60])\n",
        "Headache['Severe'] = fuzz.trimf(Headache.universe,[60,70,80])\n",
        "Headache['Very_Severe'] = fuzz.trimf(Headache.universe,[80,90,100])\n",
        "\n",
        "Nausea['Mild'] = fuzz.trimf(Nausea.universe,[10,20,30])\n",
        "Nausea['Moderate'] = fuzz.trimf(Nausea.universe,[30,50,60])\n",
        "Nausea['Severe'] = fuzz.trimf(Nausea.universe,[60,70,80])\n",
        "Nausea['Very_Severe'] = fuzz.trimf(Nausea.universe,[80,90,100])\n",
        "\n",
        "Vomiting['Mild'] = fuzz.trimf(Vomiting.universe,[10,20,30])\n",
        "Vomiting['Moderate'] = fuzz.trimf(Vomiting.universe,[30,50,60])\n",
        "Vomiting['Severe'] = fuzz.trimf(Vomiting.universe,[60,70,80])\n",
        "Vomiting['Very_Severe'] = fuzz.trimf(Vomiting.universe,[80,90,100])\n",
        "\n",
        "Jaundice['Mild'] = fuzz.trimf(Jaundice.universe,[10,20,30])\n",
        "Jaundice['Moderate'] = fuzz.trimf(Jaundice.universe,[30,50,60])\n",
        "Jaundice['Severe'] = fuzz.trimf(Jaundice.universe,[60,70,80])\n",
        "Jaundice['Very_Severe'] = fuzz.trimf(Jaundice.universe,[80,90,100])\n",
        "\n",
        "Enlarge_Liver['Mild'] = fuzz.trimf(Enlarge_Liver.universe,[10,20,30])\n",
        "Enlarge_Liver['Moderate'] = fuzz.trimf(Enlarge_Liver.universe,[30,50,60])\n",
        "Enlarge_Liver['Severe'] = fuzz.trimf(Enlarge_Liver.universe,[60,70,80])\n",
        "Enlarge_Liver['Very_Severe'] = fuzz.trimf(Enlarge_Liver.universe,[80,90,100])\n",
        "\n",
        "Joint_Pain['Mild'] = fuzz.trimf(Joint_Pain.universe,[10,20,30])\n",
        "Joint_Pain['Moderate'] = fuzz.trimf(Joint_Pain.universe,[30,50,60])\n",
        "Joint_Pain['Severe'] = fuzz.trimf(Joint_Pain.universe,[60,70,80])\n",
        "Joint_Pain['Very_Severe'] = fuzz.trimf(Joint_Pain.universe,[80,90,100])\n",
        "\n",
        "Body_Weakness['Mild'] = fuzz.trimf(Body_Weakness.universe,[10,20,30])\n",
        "Body_Weakness['Moderate'] = fuzz.trimf(Body_Weakness.universe,[30,50,60])\n",
        "Body_Weakness['Severe'] = fuzz.trimf(Body_Weakness.universe,[60,70,80])\n",
        "Body_Weakness['Very_Severe'] = fuzz.trimf(Body_Weakness.universe,[80,90,100])\n",
        "\n",
        "Dizziness['Mild'] = fuzz.trimf(Dizziness.universe,[10,20,30])\n",
        "Dizziness['Moderate'] = fuzz.trimf(Dizziness.universe,[30,50,60])\n",
        "Dizziness['Severe'] = fuzz.trimf(Dizziness.universe,[60,70,80])\n",
        "Dizziness['Very_Severe'] = fuzz.trimf(Dizziness.universe,[80,90,100])\n",
        "\n",
        "Loss_of_Appetite['Mild'] = fuzz.trimf(Loss_of_Appetite.universe,[10,20,30])\n",
        "Loss_of_Appetite['Moderate'] = fuzz.trimf(Loss_of_Appetite.universe,[30,50,60])\n",
        "Loss_of_Appetite['Severe'] = fuzz.trimf(Loss_of_Appetite.universe,[60,70,80])\n",
        "Loss_of_Appetite['Very_Severe'] = fuzz.trimf(Loss_of_Appetite.universe,[80,90,100])\n",
        "\n",
        "MP['Mild'] = fuzz.trimf(MP.universe,[10,20,30])\n",
        "MP['Moderate'] = fuzz.trimf(MP.universe,[30,50,60])\n",
        "MP['Severe'] = fuzz.trimf(MP.universe,[60,70,80])\n",
        "MP['Very_Severe'] = fuzz.trimf(MP.universe,[80,90,100])\n",
        "\n",
        "Conclusion['Mild'] = fuzz.trimf(Conclusion.universe,[10,20,30])\n",
        "Conclusion['Moderate'] = fuzz.trimf(Conclusion.universe,[30,50,60])\n",
        "Conclusion['Severe'] = fuzz.trimf(Conclusion.universe,[60,70,80])\n",
        "Conclusion['Very_Severe'] = fuzz.trimf(Conclusion.universe,[80,90,100])"
      ],
      "metadata": {
        "id": "dTtTQSNp42X1"
      },
      "execution_count": 3,
      "outputs": []
    },
    {
      "cell_type": "code",
      "source": [
        "rule1 = ctrl.Rule(Fever['Mild'] & Headache['Mild'] & Nausea['Mild'] & Vomiting['Mild'] & Jaundice['Mild'] & Enlarge_Liver['Mild'] & Joint_Pain['Mild'] & Body_Weakness['Mild'] & Dizziness['Severe'] & Loss_of_Appetite['Mild'] & MP['Mild'], Conclusion['Mild'])\n",
        "rule2 = ctrl.Rule(Fever['Moderate'] & Headache['Mild'] & Nausea['Mild'] & Vomiting['Mild'] & Jaundice['Mild'] & Enlarge_Liver['Mild'] & Joint_Pain['Moderate'] & Body_Weakness['Moderate'] & Dizziness['Severe'] & Loss_of_Appetite['Severe'] & MP['Moderate'], Conclusion['Moderate'])\n",
        "rule3 = ctrl.Rule(Fever['Severe'] & Headache['Moderate'] & Nausea['Mild'] & Vomiting['Mild'] & Jaundice['Mild'] & Enlarge_Liver['Mild'] & Joint_Pain['Mild'] & Body_Weakness['Severe'] & Dizziness['Severe'] & Loss_of_Appetite['Severe'] & MP['Moderate'], Conclusion['Severe'])\n",
        "rule4 = ctrl.Rule(Fever['Very_Severe'] & Headache['Mild'] & Nausea['Mild'] & Vomiting['Mild'] & Jaundice['Mild'] & Enlarge_Liver['Mild'] & Joint_Pain['Severe'] & Body_Weakness['Severe'] & Dizziness['Mild'] & Loss_of_Appetite['Mild'] & MP['Severe'], Conclusion['Very_Severe'])\n",
        "rule5 = ctrl.Rule(Fever['Moderate'] & Headache['Mild'] & Nausea['Mild'] & Vomiting['Moderate'] & Jaundice['Mild'] & Enlarge_Liver['Mild'] & Joint_Pain['Moderate'] & Body_Weakness['Moderate'] & Dizziness['Moderate'] & Loss_of_Appetite['Severe'] & MP['Moderate'], Conclusion['Moderate'])\n",
        "rule6 = ctrl.Rule(Fever['Mild'] & Headache['Moderate'] & Nausea['Moderate'] & Vomiting['Mild'] & Jaundice['Mild'] & Enlarge_Liver['Mild'] & Joint_Pain['Mild'] & Body_Weakness['Mild'] & Dizziness['Moderate'] & Loss_of_Appetite['Mild'] & MP['Mild'], Conclusion['Mild'])\n",
        "rule7 = ctrl.Rule(Fever['Mild'] & Headache['Mild'] & Nausea['Moderate'] & Vomiting['Moderate'] & Jaundice['Mild'] & Enlarge_Liver['Mild'] & Joint_Pain['Severe'] & Body_Weakness['Severe'] & Dizziness['Moderate'] & Loss_of_Appetite['Moderate'] & MP['Moderate'], Conclusion['Severe'])\n",
        "rule8 = ctrl.Rule(Fever['Moderate'] & Headache['Moderate'] & Nausea['Moderate'] & Vomiting['Moderate'] & Jaundice['Moderate'] & Enlarge_Liver['Moderate'] & Joint_Pain['Moderate'] & Body_Weakness['Moderate'] & Dizziness['Moderate'] & Loss_of_Appetite['Moderate'] & MP['Moderate'], Conclusion['Moderate'])\n",
        "rule9 = ctrl.Rule(Fever['Moderate'] & Headache['Mild'] & Nausea['Moderate'] & Vomiting['Moderate'] & Jaundice['Mild'] & Enlarge_Liver['Severe'] & Joint_Pain['Moderate'] & Body_Weakness['Moderate'] & Dizziness['Severe'] & Loss_of_Appetite['Moderate'] & MP['Moderate'], Conclusion['Moderate'])\n",
        "rule10 = ctrl.Rule(Fever['Mild'] & Headache['Mild'] & Nausea['Moderate'] & Vomiting['Moderate'] & Jaundice['Mild'] & Enlarge_Liver['Moderate'] & Joint_Pain['Mild'] & Body_Weakness['Mild'] & Dizziness['Mild'] & Loss_of_Appetite['Mild'] & MP['Mild'], Conclusion['Mild'])\n",
        "rule11 = ctrl.Rule(Fever['Severe'] & Headache['Severe'] & Nausea['Severe'] & Vomiting['Severe'] & Jaundice['Severe'] & Enlarge_Liver['Severe'] & Joint_Pain['Severe'] & Body_Weakness['Very_Severe'] & Dizziness['Severe'] & Loss_of_Appetite['Severe'] & MP['Moderate'], Conclusion['Very_Severe'])\n",
        "rule12 = ctrl.Rule(Fever['Moderate'] & Headache['Severe'] & Nausea['Moderate'] & Vomiting['Severe'] & Jaundice['Moderate'] & Enlarge_Liver['Severe'] & Joint_Pain['Moderate'] & Body_Weakness['Severe'] & Dizziness['Moderate'] & Loss_of_Appetite['Mild'] & MP['Moderate'], Conclusion['Severe'])\n",
        "rule13 = ctrl.Rule(Fever['Mild'] & Headache['Moderate'] & Nausea['Moderate'] & Vomiting['Moderate'] & Jaundice['Mild'] & Enlarge_Liver['Mild'] & Joint_Pain['Mild'] & Body_Weakness['Moderate'] & Dizziness['Mild'] & Loss_of_Appetite['Moderate'] & MP['Moderate'], Conclusion['Moderate'])\n",
        "rule14 = ctrl.Rule(Fever['Severe'] & Headache['Severe'] & Nausea['Moderate'] & Vomiting['Severe'] & Jaundice['Severe'] & Enlarge_Liver['Severe'] & Joint_Pain['Severe'] & Body_Weakness['Severe'] & Dizziness['Moderate'] & Loss_of_Appetite['Moderate'] & MP['Severe'], Conclusion['Severe'])\n",
        "rule15 = ctrl.Rule(Fever['Mild'] & Headache['Mild'] & Nausea['Mild'] & Vomiting['Moderate'] & Jaundice['Mild'] & Enlarge_Liver['Mild'] & Joint_Pain['Mild'] & Body_Weakness['Severe'] & Dizziness['Mild'] & Loss_of_Appetite['Severe'] & MP['Moderate'], Conclusion['Severe'])\n",
        "rule16 = ctrl.Rule(Fever['Very_Severe'] & Headache['Moderate'] & Nausea['Mild'] & Vomiting['Moderate'] & Jaundice['Severe'] & Enlarge_Liver['Moderate'] & Joint_Pain['Mild'] & Body_Weakness['Very_Severe'] & Dizziness['Severe'] & Loss_of_Appetite['Mild'] & MP['Moderate'], Conclusion['Very_Severe'])\n",
        "rule17 = ctrl.Rule(Fever['Mild'] & Headache['Very_Severe'] & Nausea['Moderate'] & Vomiting['Moderate'] & Jaundice['Mild'] & Enlarge_Liver['Moderate'] & Joint_Pain['Mild'] & Body_Weakness['Moderate'] & Dizziness['Very_Severe'] & Loss_of_Appetite['Mild'] & MP['Moderate'], Conclusion['Very_Severe'])\n",
        "rule18 = ctrl.Rule(Fever['Moderate'] & Headache['Very_Severe'] & Nausea['Very_Severe'] & Vomiting['Mild'] & Jaundice['Severe'] & Enlarge_Liver['Severe'] & Joint_Pain['Moderate'] & Body_Weakness['Severe'] & Dizziness['Very_Severe'] & Loss_of_Appetite['Very_Severe'] & MP['Severe'], Conclusion['Very_Severe'])\n",
        "rule19 = ctrl.Rule(Fever['Moderate'] & Headache['Moderate'] & Nausea['Moderate'] & Vomiting['Moderate'] & Jaundice['Mild'] & Enlarge_Liver['Mild'] & Joint_Pain['Moderate'] & Body_Weakness['Moderate'] & Dizziness['Moderate'] & Loss_of_Appetite['Moderate'] & MP['Moderate'], Conclusion['Moderate'])\n",
        "rule20 = ctrl.Rule(Fever['Very_Severe'] & Headache['Severe'] & Nausea['Severe'] & Vomiting['Severe'] & Jaundice['Severe'] & Enlarge_Liver['Severe'] & Joint_Pain['Severe'] & Body_Weakness['Severe'] & Dizziness['Severe'] & Loss_of_Appetite['Severe'] & MP['Moderate'], Conclusion['Very_Severe'])"
      ],
      "metadata": {
        "id": "m9j25D48RL_U"
      },
      "execution_count": 9,
      "outputs": []
    },
    {
      "cell_type": "code",
      "source": [
        "conclusioning_ctrl = ctrl.ControlSystem([rule1,rule2,rule3,rule4,rule5,rule6,rule7,rule8,rule9,rule10,rule11,rule12,rule13,rule14,rule15,rule16,rule17,rule18,rule19,rule20])\n",
        "conclusioning = ctrl.ControlSystemSimulation(conclusioning_ctrl)\n",
        "conclusioning.input['Fever'] = 10\n",
        "conclusioning.input['Headache'] = 10\n",
        "conclusioning.input['Nausea'] = 10\n",
        "conclusioning.input['Vomiting'] = 10\n",
        "conclusioning.input['Jaundice'] = 10\n",
        "conclusioning.input['Enlarge_Liver'] = 10\n",
        "conclusioning.input['Joint_Pain'] = 10\n",
        "conclusioning.input['Body_Weakness'] = 10\n",
        "conclusioning.input['Dizziness'] = 10\n",
        "conclusioning.input['Loss_of_Appetite'] = 10\n",
        "conclusioning.input['MP'] = 10"
      ],
      "metadata": {
        "id": "4D0RF-6NRO9s"
      },
      "execution_count": 12,
      "outputs": []
    },
    {
      "cell_type": "code",
      "source": [
        "conclusioning.compute()\n",
        "Conclusion.view(sim = conclusioning)"
      ],
      "metadata": {
        "id": "Ro7ebIfuSrzX",
        "colab": {
          "base_uri": "https://localhost:8080/",
          "height": 459
        },
        "outputId": "89c98f37-114a-4e4f-f1a2-2418baf1a119"
      },
      "execution_count": 13,
      "outputs": [
        {
          "output_type": "error",
          "ename": "ValueError",
          "evalue": "ignored",
          "traceback": [
            "\u001b[0;31m---------------------------------------------------------------------------\u001b[0m",
            "\u001b[0;31mAssertionError\u001b[0m                            Traceback (most recent call last)",
            "\u001b[0;32m/usr/local/lib/python3.8/dist-packages/skfuzzy/control/controlsystem.py\u001b[0m in \u001b[0;36mdefuzz\u001b[0;34m(self)\u001b[0m\n\u001b[1;32m    585\u001b[0m             \u001b[0;32mtry\u001b[0m\u001b[0;34m:\u001b[0m\u001b[0;34m\u001b[0m\u001b[0;34m\u001b[0m\u001b[0m\n\u001b[0;32m--> 586\u001b[0;31m                 return defuzz(ups_universe, output_mf,\n\u001b[0m\u001b[1;32m    587\u001b[0m                               self.var.defuzzify_method)\n",
            "\u001b[0;32m/usr/local/lib/python3.8/dist-packages/skfuzzy/defuzzify/defuzz.py\u001b[0m in \u001b[0;36mdefuzz\u001b[0;34m(x, mfx, mode)\u001b[0m\n\u001b[1;32m    247\u001b[0m         \u001b[0mzero_truth_degree\u001b[0m \u001b[0;34m=\u001b[0m \u001b[0mmfx\u001b[0m\u001b[0;34m.\u001b[0m\u001b[0msum\u001b[0m\u001b[0;34m(\u001b[0m\u001b[0;34m)\u001b[0m \u001b[0;34m==\u001b[0m \u001b[0;36m0\u001b[0m  \u001b[0;31m# Approximation of total area\u001b[0m\u001b[0;34m\u001b[0m\u001b[0;34m\u001b[0m\u001b[0m\n\u001b[0;32m--> 248\u001b[0;31m         \u001b[0;32massert\u001b[0m \u001b[0;32mnot\u001b[0m \u001b[0mzero_truth_degree\u001b[0m\u001b[0;34m,\u001b[0m \u001b[0;34m'Total area is zero in defuzzification!'\u001b[0m\u001b[0;34m\u001b[0m\u001b[0;34m\u001b[0m\u001b[0m\n\u001b[0m\u001b[1;32m    249\u001b[0m \u001b[0;34m\u001b[0m\u001b[0m\n",
            "\u001b[0;31mAssertionError\u001b[0m: Total area is zero in defuzzification!",
            "\nDuring handling of the above exception, another exception occurred:\n",
            "\u001b[0;31mValueError\u001b[0m                                Traceback (most recent call last)",
            "\u001b[0;32m<ipython-input-13-21df42056de2>\u001b[0m in \u001b[0;36m<module>\u001b[0;34m\u001b[0m\n\u001b[0;32m----> 1\u001b[0;31m \u001b[0mconclusioning\u001b[0m\u001b[0;34m.\u001b[0m\u001b[0mcompute\u001b[0m\u001b[0;34m(\u001b[0m\u001b[0;34m)\u001b[0m\u001b[0;34m\u001b[0m\u001b[0;34m\u001b[0m\u001b[0m\n\u001b[0m\u001b[1;32m      2\u001b[0m \u001b[0mConclusion\u001b[0m\u001b[0;34m.\u001b[0m\u001b[0mview\u001b[0m\u001b[0;34m(\u001b[0m\u001b[0msim\u001b[0m \u001b[0;34m=\u001b[0m \u001b[0mconclusioning\u001b[0m\u001b[0;34m)\u001b[0m\u001b[0;34m\u001b[0m\u001b[0;34m\u001b[0m\u001b[0m\n",
            "\u001b[0;32m/usr/local/lib/python3.8/dist-packages/skfuzzy/control/controlsystem.py\u001b[0m in \u001b[0;36mcompute\u001b[0;34m(self)\u001b[0m\n\u001b[1;32m    371\u001b[0m         \u001b[0;32mfor\u001b[0m \u001b[0mconsequent\u001b[0m \u001b[0;32min\u001b[0m \u001b[0mself\u001b[0m\u001b[0;34m.\u001b[0m\u001b[0mctrl\u001b[0m\u001b[0;34m.\u001b[0m\u001b[0mconsequents\u001b[0m\u001b[0;34m:\u001b[0m\u001b[0;34m\u001b[0m\u001b[0;34m\u001b[0m\u001b[0m\n\u001b[1;32m    372\u001b[0m             \u001b[0mconsequent\u001b[0m\u001b[0;34m.\u001b[0m\u001b[0moutput\u001b[0m\u001b[0;34m[\u001b[0m\u001b[0mself\u001b[0m\u001b[0;34m]\u001b[0m \u001b[0;34m=\u001b[0m\u001b[0;31m \u001b[0m\u001b[0;31m\\\u001b[0m\u001b[0;34m\u001b[0m\u001b[0;34m\u001b[0m\u001b[0m\n\u001b[0;32m--> 373\u001b[0;31m                 \u001b[0mCrispValueCalculator\u001b[0m\u001b[0;34m(\u001b[0m\u001b[0mconsequent\u001b[0m\u001b[0;34m,\u001b[0m \u001b[0mself\u001b[0m\u001b[0;34m)\u001b[0m\u001b[0;34m.\u001b[0m\u001b[0mdefuzz\u001b[0m\u001b[0;34m(\u001b[0m\u001b[0;34m)\u001b[0m\u001b[0;34m\u001b[0m\u001b[0;34m\u001b[0m\u001b[0m\n\u001b[0m\u001b[1;32m    374\u001b[0m             \u001b[0mself\u001b[0m\u001b[0;34m.\u001b[0m\u001b[0moutput\u001b[0m\u001b[0;34m[\u001b[0m\u001b[0mconsequent\u001b[0m\u001b[0;34m.\u001b[0m\u001b[0mlabel\u001b[0m\u001b[0;34m]\u001b[0m \u001b[0;34m=\u001b[0m \u001b[0mconsequent\u001b[0m\u001b[0;34m.\u001b[0m\u001b[0moutput\u001b[0m\u001b[0;34m[\u001b[0m\u001b[0mself\u001b[0m\u001b[0;34m]\u001b[0m\u001b[0;34m\u001b[0m\u001b[0;34m\u001b[0m\u001b[0m\n\u001b[1;32m    375\u001b[0m \u001b[0;34m\u001b[0m\u001b[0m\n",
            "\u001b[0;32m/usr/local/lib/python3.8/dist-packages/skfuzzy/control/controlsystem.py\u001b[0m in \u001b[0;36mdefuzz\u001b[0;34m(self)\u001b[0m\n\u001b[1;32m    587\u001b[0m                               self.var.defuzzify_method)\n\u001b[1;32m    588\u001b[0m             \u001b[0;32mexcept\u001b[0m \u001b[0mAssertionError\u001b[0m\u001b[0;34m:\u001b[0m\u001b[0;34m\u001b[0m\u001b[0;34m\u001b[0m\u001b[0m\n\u001b[0;32m--> 589\u001b[0;31m                 raise ValueError(\"Crisp output cannot be calculated, likely \"\n\u001b[0m\u001b[1;32m    590\u001b[0m                                  \u001b[0;34m\"because the system is too sparse. Check to \"\u001b[0m\u001b[0;34m\u001b[0m\u001b[0;34m\u001b[0m\u001b[0m\n\u001b[1;32m    591\u001b[0m                                  \u001b[0;34m\"make sure this set of input values will \"\u001b[0m\u001b[0;34m\u001b[0m\u001b[0;34m\u001b[0m\u001b[0m\n",
            "\u001b[0;31mValueError\u001b[0m: Crisp output cannot be calculated, likely because the system is too sparse. Check to make sure this set of input values will activate at least one connected Term in each Antecedent via the current set of Rules."
          ]
        }
      ]
    }
  ]
}